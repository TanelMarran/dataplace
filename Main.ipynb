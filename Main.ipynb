{
 "cells": [
  {
   "cell_type": "markdown",
   "metadata": {},
   "source": [
    "# Estonians on the r/place Canvas\n",
    "data science project by Johan Erik Pukk, Jaanus Raudsik & Tanel Marran"
   ]
  },
  {
   "cell_type": "markdown",
   "metadata": {},
   "source": [
    "Steps needed to complete:\n",
    "1. Read in the data from *tile_placements_sorted.csv*\n",
    "2. Try to identify the users who built the estonian flag and heart.\n",
    "3. Map the contributions of the users identified in the previous task on the rest of the canvas\n",
    "4. Create a heatmap of the contributions of the identified users\n",
    "5. Identify regions and objects where the identified users contributed to\n",
    "6. Making an informative and attractive poster about our findings from data\n",
    "\n",
    "**<font color='red'>PS!<font>** The *tile_placements_sorted.csv* file is too large to commit to github. You'll need to download it into your local repository on your own.<br>\n",
    "Link to dataset: http://skeeto.s3.amazonaws.com/share/tile_placements_sorted.csv.xz"
   ]
  },
  {
   "cell_type": "markdown",
   "metadata": {},
   "source": [
    "### Helpful info\n",
    "Reddit post about the r/place datasets: https://www.reddit.com/r/redditdata/comments/6640ru/place_datasets_april_fools_2017/\n",
    "\n",
    "Here is a list of all Estonian structures that we have found on the canvas, with appropriated coordinates.\n",
    "It may be beneficial to also add timesstamps, so we know when these structures existed.\n",
    "The coordinates may not be super percise, so keep that in mind. These coords are simply for finding the ge\n",
    "\n",
    "**Estonian Flag**<br>\n",
    "Coordiantes: (156, 70)\n",
    "![title](Images/flag_156_70.png)\n",
    "\n",
    "**Estonian Heart**<br>\n",
    "Coordiantes: (187, 118)\n",
    "![title](Images/heart_187_118.png)"
   ]
  },
  {
   "cell_type": "markdown",
   "metadata": {},
   "source": [
    "## Step 1\n",
    "Import some libraries and read in the dataset. Create a dictionary for colors."
   ]
  },
  {
   "cell_type": "code",
   "execution_count": 1,
   "metadata": {},
   "outputs": [],
   "source": [
    "import pandas as pd\n",
    "import numpy as np\n",
    "import matplotlib.pyplot as plt\n",
    "import matplotlib.image as mpimg"
   ]
  },
  {
   "cell_type": "code",
   "execution_count": 2,
   "metadata": {},
   "outputs": [],
   "source": [
    "raw_data = pd.read_csv(\"tile_placements_sorted.csv\")\n",
    "raw_data[\"x\"] = raw_data[\"x_coordinate\"]\n",
    "raw_data[\"y\"] = raw_data[\"y_coordinate\"]\n",
    "del raw_data[\"x_coordinate\"]\n",
    "del raw_data[\"y_coordinate\"]"
   ]
  },
  {
   "cell_type": "code",
   "execution_count": 3,
   "metadata": {},
   "outputs": [
    {
     "data": {
      "text/html": [
       "<div>\n",
       "<style scoped>\n",
       "    .dataframe tbody tr th:only-of-type {\n",
       "        vertical-align: middle;\n",
       "    }\n",
       "\n",
       "    .dataframe tbody tr th {\n",
       "        vertical-align: top;\n",
       "    }\n",
       "\n",
       "    .dataframe thead th {\n",
       "        text-align: right;\n",
       "    }\n",
       "</style>\n",
       "<table border=\"1\" class=\"dataframe\">\n",
       "  <thead>\n",
       "    <tr style=\"text-align: right;\">\n",
       "      <th></th>\n",
       "      <th>ts</th>\n",
       "      <th>user</th>\n",
       "      <th>color</th>\n",
       "      <th>x</th>\n",
       "      <th>y</th>\n",
       "    </tr>\n",
       "  </thead>\n",
       "  <tbody>\n",
       "    <tr>\n",
       "      <td>8951761</td>\n",
       "      <td>1491238734000</td>\n",
       "      <td>WcPEECDEtqTri0VN5AJggUWOi/A=</td>\n",
       "      <td>5</td>\n",
       "      <td>605</td>\n",
       "      <td>160</td>\n",
       "    </tr>\n",
       "    <tr>\n",
       "      <td>15110795</td>\n",
       "      <td>1491238733000</td>\n",
       "      <td>uLIYXambhhJnq+XQsp3/v4hOSg8=</td>\n",
       "      <td>3</td>\n",
       "      <td>31</td>\n",
       "      <td>16</td>\n",
       "    </tr>\n",
       "    <tr>\n",
       "      <td>1788175</td>\n",
       "      <td>1491238733000</td>\n",
       "      <td>4tD092krB0kr/mIgPzbkdWRbbuA=</td>\n",
       "      <td>15</td>\n",
       "      <td>159</td>\n",
       "      <td>602</td>\n",
       "    </tr>\n",
       "    <tr>\n",
       "      <td>10357844</td>\n",
       "      <td>1491238733000</td>\n",
       "      <td>c34iVZhk/TWfZvgLERa92dv4nXI=</td>\n",
       "      <td>10</td>\n",
       "      <td>33</td>\n",
       "      <td>70</td>\n",
       "    </tr>\n",
       "    <tr>\n",
       "      <td>776850</td>\n",
       "      <td>1491238733000</td>\n",
       "      <td>0zJQ/whk/woFFZpfA53DCstaOV8=</td>\n",
       "      <td>5</td>\n",
       "      <td>176</td>\n",
       "      <td>159</td>\n",
       "    </tr>\n",
       "    <tr>\n",
       "      <td>...</td>\n",
       "      <td>...</td>\n",
       "      <td>...</td>\n",
       "      <td>...</td>\n",
       "      <td>...</td>\n",
       "      <td>...</td>\n",
       "    </tr>\n",
       "    <tr>\n",
       "      <td>4776829</td>\n",
       "      <td>1490919349000</td>\n",
       "      <td>GP2B74SRyrZ3HIflSFoAzM+jS3U=</td>\n",
       "      <td>11</td>\n",
       "      <td>477</td>\n",
       "      <td>495</td>\n",
       "    </tr>\n",
       "    <tr>\n",
       "      <td>4776825</td>\n",
       "      <td>1490919337000</td>\n",
       "      <td>GP2B74SRyrZ3HIflSFoAzM+jS3U=</td>\n",
       "      <td>11</td>\n",
       "      <td>474</td>\n",
       "      <td>495</td>\n",
       "    </tr>\n",
       "    <tr>\n",
       "      <td>1256304</td>\n",
       "      <td>1490918781000</td>\n",
       "      <td>2puPLvQ6X2zTSpfBkHXhxlIVo40=</td>\n",
       "      <td>0</td>\n",
       "      <td>518</td>\n",
       "      <td>498</td>\n",
       "    </tr>\n",
       "    <tr>\n",
       "      <td>1256296</td>\n",
       "      <td>1490918728000</td>\n",
       "      <td>2puPLvQ6X2zTSpfBkHXhxlIVo40=</td>\n",
       "      <td>1</td>\n",
       "      <td>490</td>\n",
       "      <td>504</td>\n",
       "    </tr>\n",
       "    <tr>\n",
       "      <td>1256302</td>\n",
       "      <td>1490918688000</td>\n",
       "      <td>2puPLvQ6X2zTSpfBkHXhxlIVo40=</td>\n",
       "      <td>1</td>\n",
       "      <td>505</td>\n",
       "      <td>510</td>\n",
       "    </tr>\n",
       "  </tbody>\n",
       "</table>\n",
       "<p>16559897 rows × 5 columns</p>\n",
       "</div>"
      ],
      "text/plain": [
       "                     ts                          user  color    x    y\n",
       "8951761   1491238734000  WcPEECDEtqTri0VN5AJggUWOi/A=      5  605  160\n",
       "15110795  1491238733000  uLIYXambhhJnq+XQsp3/v4hOSg8=      3   31   16\n",
       "1788175   1491238733000  4tD092krB0kr/mIgPzbkdWRbbuA=     15  159  602\n",
       "10357844  1491238733000  c34iVZhk/TWfZvgLERa92dv4nXI=     10   33   70\n",
       "776850    1491238733000  0zJQ/whk/woFFZpfA53DCstaOV8=      5  176  159\n",
       "...                 ...                           ...    ...  ...  ...\n",
       "4776829   1490919349000  GP2B74SRyrZ3HIflSFoAzM+jS3U=     11  477  495\n",
       "4776825   1490919337000  GP2B74SRyrZ3HIflSFoAzM+jS3U=     11  474  495\n",
       "1256304   1490918781000  2puPLvQ6X2zTSpfBkHXhxlIVo40=      0  518  498\n",
       "1256296   1490918728000  2puPLvQ6X2zTSpfBkHXhxlIVo40=      1  490  504\n",
       "1256302   1490918688000  2puPLvQ6X2zTSpfBkHXhxlIVo40=      1  505  510\n",
       "\n",
       "[16559897 rows x 5 columns]"
      ]
     },
     "execution_count": 3,
     "metadata": {},
     "output_type": "execute_result"
    }
   ],
   "source": [
    "raw_data.sort_values(\"ts\",ascending=False)"
   ]
  },
  {
   "cell_type": "code",
   "execution_count": 17,
   "metadata": {},
   "outputs": [
    {
     "name": "stdout",
     "output_type": "stream",
     "text": [
      "Earliest timestamp: 1490918688000\n",
      "Latest timestamp: 1491238734000\n"
     ]
    }
   ],
   "source": [
    "earliest = raw_data.ts.min()\n",
    "latest = raw_data.ts.max()\n",
    "print(\"Earliest timestamp:\", earliest)\n",
    "print(\"Latest timestamp:\",latest)"
   ]
  },
  {
   "cell_type": "markdown",
   "metadata": {},
   "source": [
    "Notice that the colors in this dataset have numeric identifiers and thus we don't really know what number corresbonds to what color."
   ]
  },
  {
   "cell_type": "code",
   "execution_count": 4,
   "metadata": {},
   "outputs": [
    {
     "name": "stdout",
     "output_type": "stream",
     "text": [
      "Total number of colors: 16\n"
     ]
    }
   ],
   "source": [
    "print(\"Total number of colors:\", len(raw_data.color.value_counts()))"
   ]
  },
  {
   "cell_type": "markdown",
   "metadata": {},
   "source": [
    "An array of color strings should be created where the index of the color in the array corresbonds to its identifier in the dataset.\n",
    "Thankfully these colors are documented on the reddit post linked earlier."
   ]
  },
  {
   "cell_type": "code",
   "execution_count": 5,
   "metadata": {},
   "outputs": [
    {
     "data": {
      "text/plain": [
       "array([[1.        , 1.        , 1.        ],\n",
       "       [0.89411765, 0.89411765, 0.89411765],\n",
       "       [0.53333333, 0.53333333, 0.53333333],\n",
       "       [0.13333333, 0.13333333, 0.13333333],\n",
       "       [1.        , 0.65490196, 0.81960784],\n",
       "       [0.89803922, 0.        , 0.        ],\n",
       "       [0.89803922, 0.58431373, 0.        ],\n",
       "       [0.62745098, 0.41568627, 0.25882353],\n",
       "       [0.89803922, 0.85098039, 0.        ],\n",
       "       [0.58039216, 0.87843137, 0.26666667],\n",
       "       [0.00784314, 0.74509804, 0.00392157],\n",
       "       [0.        , 0.89803922, 0.94117647],\n",
       "       [0.        , 0.51372549, 0.78039216],\n",
       "       [0.        , 0.        , 0.91764706],\n",
       "       [0.87843137, 0.29019608, 1.        ],\n",
       "       [0.50980392, 0.        , 0.50196078]])"
      ]
     },
     "execution_count": 5,
     "metadata": {},
     "output_type": "execute_result"
    }
   ],
   "source": [
    "colors = np.array([\"FFFFFF\",\"E4E4E4\",\"888888\",\"222222\",\n",
    "                   \"FFA7D1\",\"E50000\",\"E59500\",\"A06A42\",\n",
    "                   \"E5D900\",\"94E044\",\"02BE01\",\"00E5F0\",\n",
    "                   \"0083C7\",\"0000EA\",\"E04AFF\",\"820080\"])\n",
    "\n",
    "colordict = np.arange(3*16).reshape(16,3).astype(float)\n",
    "for j in range(len(colors)):\n",
    "    new = tuple(int(colors[j][i:i+2], 16)/255 for i in (0, 2, 4))\n",
    "    colordict[j] = new\n",
    "colordict"
   ]
  },
  {
   "cell_type": "markdown",
   "metadata": {},
   "source": [
    "## Task 2\n",
    "We need to create some reusable functions:\n",
    "1. A method for displaying a part of a canvas, or at least form the data in a way that can be later displayed.\n",
    "2. Find all instances where the coords are in some defined shape.\n",
    "3. An ordered list of all pixels placed by a certain user.\n",
    "4. Filter out every instances where the pixel wasn't of an appropriate color. "
   ]
  },
  {
   "cell_type": "markdown",
   "metadata": {},
   "source": [
    "First we'll create a method that takes in some canvas coords and a timestamp and returns a numpy array that can be used to print that canvas part on a plot."
   ]
  },
  {
   "cell_type": "code",
   "execution_count": 24,
   "metadata": {},
   "outputs": [],
   "source": [
    "def convert_time(percent): #converst range [0,1] to [1490918688000,1491238734000]\n",
    "    return round((latest-earliest)*percent)+earliest"
   ]
  },
  {
   "cell_type": "code",
   "execution_count": 22,
   "metadata": {},
   "outputs": [],
   "source": [
    "def canvas_region(x1,y1,x2,y2,time): # function 1\n",
    "    width = x2-x1+1\n",
    "    height = y2-y1+1\n",
    "    time = convert_time(time)\n",
    "    matrix = np.zeros((height,width,3))\n",
    "    trimmed_data = raw_data[(raw_data.x >= x1) & (raw_data.x <= x2) & (raw_data.y >= y1) & (raw_data.y <= y2) & (raw_data.ts <= time)].sort_values('ts',ascending=True)\n",
    "    for index, row in trimmed_data.iterrows():\n",
    "        matrix[row.y-y1,row.x-x1] = colordict[row.color]\n",
    "    return matrix"
   ]
  },
  {
   "cell_type": "code",
   "execution_count": 29,
   "metadata": {},
   "outputs": [
    {
     "data": {
      "image/png": "[encoded data removed]",
      "text/plain": [
       "<Figure size 432x288 with 1 Axes>"
      ]
     },
     "metadata": {
      "needs_background": "light"
     },
     "output_type": "display_data"
    }
   ],
   "source": [
    "img = canvas_region(281,619,395,647,0.7)\n",
    "imgplot = plt.imshow(img)"
   ]
  },
  {
   "cell_type": "code",
   "execution_count": null,
   "metadata": {},
   "outputs": [],
   "source": [
    "def instaces_in_region(x1,y1,x2,y2,starttime,endtime):\n",
    "    starttime = convert_time(starttime)\n",
    "    endtime = convert_time(endtime)\n",
    "    return raw_data[(raw_data.x >= x1) & (raw_data.x <= x2) & (raw_data.y >= y1) & (raw_data.y <= y2) & (raw_data.ts <= endtime) & (raw_data.ts >= starttime)].sort_values('ts',ascending=True)"
   ]
  },
  {
   "cell_type": "code",
   "execution_count": 8,
   "metadata": {},
   "outputs": [],
   "source": [
    "def user_ordered(userhash): #function 3\n",
    "    return raw_data[(raw_data.user == userhash)].sort_values('ts',ascending=True)"
   ]
  }
 ],
 "metadata": {
  "kernelspec": {
   "display_name": "Python 3",
   "language": "python",
   "name": "python3"
  },
  "language_info": {
   "codemirror_mode": {
    "name": "ipython",
    "version": 3
   },
   "file_extension": ".py",
   "mimetype": "text/x-python",
   "name": "python",
   "nbconvert_exporter": "python",
   "pygments_lexer": "ipython3",
   "version": "3.7.4"
  }
 },
 "nbformat": 4,
 "nbformat_minor": 2
}
