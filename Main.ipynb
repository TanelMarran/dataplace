{
 "cells": [
  {
   "cell_type": "markdown",
   "metadata": {},
   "source": [
    "# Estonians on the r/place Canvas\n",
    "data science project by Johan Erik Pukk, Jaanus Raudsik & Tanel Marran"
   ]
  },
  {
   "cell_type": "markdown",
   "metadata": {},
   "source": [
    "Steps needed to complete:\n",
    "1. Read in the data from tile_placements_sorted.csv\n",
    "2. Try to identify the users who built the estonian flag and heart.\n",
    "3. Map the contributions of the users identified in the previous task on the rest of the canvas\n",
    "4. Create a heatmap of the contributions of the identified users\n",
    "5. Identify regions and objects where the identified users contributed to\n",
    "6. Making an informative and attractive poster about our findings from data\n",
    "\n",
    "**<font color='red'>PS!<font>** the tile_placements_sorted.csv file is too large to commit to github. You'll need to download it into your local repository on your own.<br>\n",
    "    Link"
   ]
  },
  {
   "cell_type": "markdown",
   "metadata": {},
   "source": [
    "### Helpful info\n",
    "Reddit post about the r/place datasets: https://www.reddit.com/r/redditdata/comments/6640ru/place_datasets_april_fools_2017/\n",
    "\n",
    "Here is a list of all Estonian structures that we have found on the canvas, with appropriated coordinates.\n",
    "It may be beneficial to also add timesstamps, so we know when these structures existed.\n",
    "\n",
    "**Estonian Flag**<br>\n",
    "Coordiantes: (156, 70)\n",
    "![title](Images/flag_156_70.png)\n",
    "\n",
    "**Estonian Heart**<br>\n",
    "Coordiantes: (187, 118)\n",
    "![title](Images/heart_187_118.png)"
   ]
  },
  {
   "cell_type": "markdown",
   "metadata": {},
   "source": [
    "## Step 1\n",
    "Import some libraries and read in the dataset. Create a dictionary for colors."
   ]
  },
  {
   "cell_type": "code",
   "execution_count": 27,
   "metadata": {},
   "outputs": [],
   "source": [
    "import pandas as pd\n",
    "import numpy as np\n",
    "from matplotlib import pyplot as plt"
   ]
  },
  {
   "cell_type": "code",
   "execution_count": 2,
   "metadata": {},
   "outputs": [],
   "source": [
    "raw_data = pd.read_csv(\"tile_placements_sorted.csv\")"
   ]
  },
  {
   "cell_type": "code",
   "execution_count": 10,
   "metadata": {},
   "outputs": [
    {
     "data": {
      "text/html": [
       "<div>\n",
       "<style scoped>\n",
       "    .dataframe tbody tr th:only-of-type {\n",
       "        vertical-align: middle;\n",
       "    }\n",
       "\n",
       "    .dataframe tbody tr th {\n",
       "        vertical-align: top;\n",
       "    }\n",
       "\n",
       "    .dataframe thead th {\n",
       "        text-align: right;\n",
       "    }\n",
       "</style>\n",
       "<table border=\"1\" class=\"dataframe\">\n",
       "  <thead>\n",
       "    <tr style=\"text-align: right;\">\n",
       "      <th></th>\n",
       "      <th>ts</th>\n",
       "      <th>user</th>\n",
       "      <th>x_coordinate</th>\n",
       "      <th>y_coordinate</th>\n",
       "      <th>color</th>\n",
       "    </tr>\n",
       "  </thead>\n",
       "  <tbody>\n",
       "    <tr>\n",
       "      <td>0</td>\n",
       "      <td>1490991480000</td>\n",
       "      <td>+++/DjiwyzTQzfai1RGavwwdeF0=</td>\n",
       "      <td>4</td>\n",
       "      <td>33</td>\n",
       "      <td>13</td>\n",
       "    </tr>\n",
       "    <tr>\n",
       "      <td>1</td>\n",
       "      <td>1491081894000</td>\n",
       "      <td>+++/DjiwyzTQzfai1RGavwwdeF0=</td>\n",
       "      <td>600</td>\n",
       "      <td>812</td>\n",
       "      <td>13</td>\n",
       "    </tr>\n",
       "    <tr>\n",
       "      <td>2</td>\n",
       "      <td>1491080275000</td>\n",
       "      <td>+++/DjiwyzTQzfai1RGavwwdeF0=</td>\n",
       "      <td>667</td>\n",
       "      <td>794</td>\n",
       "      <td>13</td>\n",
       "    </tr>\n",
       "    <tr>\n",
       "      <td>3</td>\n",
       "      <td>1491057011000</td>\n",
       "      <td>+++/DjiwyzTQzfai1RGavwwdeF0=</td>\n",
       "      <td>818</td>\n",
       "      <td>874</td>\n",
       "      <td>13</td>\n",
       "    </tr>\n",
       "    <tr>\n",
       "      <td>4</td>\n",
       "      <td>1491142068000</td>\n",
       "      <td>+++/DjiwyzTQzfai1RGavwwdeF0=</td>\n",
       "      <td>819</td>\n",
       "      <td>728</td>\n",
       "      <td>13</td>\n",
       "    </tr>\n",
       "    <tr>\n",
       "      <td>...</td>\n",
       "      <td>...</td>\n",
       "      <td>...</td>\n",
       "      <td>...</td>\n",
       "      <td>...</td>\n",
       "      <td>...</td>\n",
       "    </tr>\n",
       "    <tr>\n",
       "      <td>16559892</td>\n",
       "      <td>1491059140000</td>\n",
       "      <td>zzzjEhZXJW2ZUvUqxdM+/h/woPI=</td>\n",
       "      <td>43</td>\n",
       "      <td>895</td>\n",
       "      <td>3</td>\n",
       "    </tr>\n",
       "    <tr>\n",
       "      <td>16559893</td>\n",
       "      <td>1491065959000</td>\n",
       "      <td>zzzjEhZXJW2ZUvUqxdM+/h/woPI=</td>\n",
       "      <td>43</td>\n",
       "      <td>895</td>\n",
       "      <td>3</td>\n",
       "    </tr>\n",
       "    <tr>\n",
       "      <td>16559894</td>\n",
       "      <td>1491058267000</td>\n",
       "      <td>zzzjEhZXJW2ZUvUqxdM+/h/woPI=</td>\n",
       "      <td>44</td>\n",
       "      <td>894</td>\n",
       "      <td>3</td>\n",
       "    </tr>\n",
       "    <tr>\n",
       "      <td>16559895</td>\n",
       "      <td>1491062573000</td>\n",
       "      <td>zzzjEhZXJW2ZUvUqxdM+/h/woPI=</td>\n",
       "      <td>44</td>\n",
       "      <td>895</td>\n",
       "      <td>3</td>\n",
       "    </tr>\n",
       "    <tr>\n",
       "      <td>16559896</td>\n",
       "      <td>1491075806000</td>\n",
       "      <td>zzzjEhZXJW2ZUvUqxdM+/h/woPI=</td>\n",
       "      <td>951</td>\n",
       "      <td>716</td>\n",
       "      <td>5</td>\n",
       "    </tr>\n",
       "  </tbody>\n",
       "</table>\n",
       "<p>16559897 rows × 5 columns</p>\n",
       "</div>"
      ],
      "text/plain": [
       "                     ts                          user  x_coordinate  \\\n",
       "0         1490991480000  +++/DjiwyzTQzfai1RGavwwdeF0=             4   \n",
       "1         1491081894000  +++/DjiwyzTQzfai1RGavwwdeF0=           600   \n",
       "2         1491080275000  +++/DjiwyzTQzfai1RGavwwdeF0=           667   \n",
       "3         1491057011000  +++/DjiwyzTQzfai1RGavwwdeF0=           818   \n",
       "4         1491142068000  +++/DjiwyzTQzfai1RGavwwdeF0=           819   \n",
       "...                 ...                           ...           ...   \n",
       "16559892  1491059140000  zzzjEhZXJW2ZUvUqxdM+/h/woPI=            43   \n",
       "16559893  1491065959000  zzzjEhZXJW2ZUvUqxdM+/h/woPI=            43   \n",
       "16559894  1491058267000  zzzjEhZXJW2ZUvUqxdM+/h/woPI=            44   \n",
       "16559895  1491062573000  zzzjEhZXJW2ZUvUqxdM+/h/woPI=            44   \n",
       "16559896  1491075806000  zzzjEhZXJW2ZUvUqxdM+/h/woPI=           951   \n",
       "\n",
       "          y_coordinate  color  \n",
       "0                   33     13  \n",
       "1                  812     13  \n",
       "2                  794     13  \n",
       "3                  874     13  \n",
       "4                  728     13  \n",
       "...                ...    ...  \n",
       "16559892           895      3  \n",
       "16559893           895      3  \n",
       "16559894           894      3  \n",
       "16559895           895      3  \n",
       "16559896           716      5  \n",
       "\n",
       "[16559897 rows x 5 columns]"
      ]
     },
     "execution_count": 10,
     "metadata": {},
     "output_type": "execute_result"
    }
   ],
   "source": [
    "raw_data"
   ]
  },
  {
   "cell_type": "markdown",
   "metadata": {},
   "source": [
    "Notice that the colors in this dataset have numeric identifiers and thus we don't really know what number corresbonds to what color."
   ]
  },
  {
   "cell_type": "code",
   "execution_count": 15,
   "metadata": {},
   "outputs": [
    {
     "name": "stdout",
     "output_type": "stream",
     "text": [
      "Total number of colors: 16\n"
     ]
    }
   ],
   "source": [
    "print(\"Total number of colors:\", len(raw_data.color.value_counts()))"
   ]
  },
  {
   "cell_type": "markdown",
   "metadata": {},
   "source": [
    "An array of color strings should be created where the index of the color in the array corresbonds to its identifier in the dataset.\n",
    "Thankfully these colors are documented on the reddit post linked earlier."
   ]
  },
  {
   "cell_type": "code",
   "execution_count": 24,
   "metadata": {},
   "outputs": [
    {
     "data": {
      "text/plain": [
       "array(['#FFFFFF', '#E4E4E4', '#888888', '#222222', '#FFA7D1', '#E50000',\n",
       "       '#E59500', '#A06A42', '#E5D900', '#94E044', '#02BE01', '#00E5F0',\n",
       "       '#0083C7', '#0000EA', '#E04AFF', '#820080'], dtype='<U7')"
      ]
     },
     "execution_count": 24,
     "metadata": {},
     "output_type": "execute_result"
    }
   ],
   "source": [
    "colordict = np.array([\"#FFFFFF\",\"#E4E4E4\",\"#888888\",\"#222222\",\n",
    "                   \"#FFA7D1\",\"#E50000\",\"#E59500\",\"#A06A42\",\n",
    "                   \"#E5D900\",\"#94E044\",\"#02BE01\",\"#00E5F0\",\n",
    "                   \"#0083C7\",\"#0000EA\",\"#E04AFF\",\"#820080\"])\n",
    "colordict"
   ]
  },
  {
   "cell_type": "markdown",
   "metadata": {},
   "source": [
    "## Task 2\n",
    "We need to create some reusable functions for finding things such as:\n",
    "1. All instances where the coords are in some defined shape.\n",
    "2. An ordered list of all pixels placed by a certain user.\n",
    "3. Filter out every instances where the pixel wasnt "
   ]
  }
 ],
 "metadata": {
  "kernelspec": {
   "display_name": "Python 3",
   "language": "python",
   "name": "python3"
  },
  "language_info": {
   "codemirror_mode": {
    "name": "ipython",
    "version": 3
   },
   "file_extension": ".py",
   "mimetype": "text/x-python",
   "name": "python",
   "nbconvert_exporter": "python",
   "pygments_lexer": "ipython3",
   "version": "3.7.4"
  }
 },
 "nbformat": 4,
 "nbformat_minor": 2
}
